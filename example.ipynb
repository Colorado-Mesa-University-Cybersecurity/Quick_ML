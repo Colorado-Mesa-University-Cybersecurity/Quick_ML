{
 "cells": [
  {
   "cell_type": "code",
   "execution_count": 1,
   "metadata": {},
   "outputs": [],
   "source": [
    "from Quick.cleaning.loading import (\n",
    "    examine_dataset\n",
    ")\n",
    "\n",
    "from Quick.cleaning.utils import (\n",
    "    get_file_path\n",
    ")"
   ]
  },
  {
   "cell_type": "code",
   "execution_count": 2,
   "metadata": {},
   "outputs": [],
   "source": [
    "data_path_1: str = './data/'\n",
    "data_sets_1: list = [\n",
    "    'Darknet_experiments_base.csv'\n",
    "]\n",
    "\n",
    "file_path_1: callable = get_file_path(data_path_1)\n",
    "file_set_1: list = list(map(file_path_1, data_sets_1))\n",
    "current_job: int = 0\n",
    "\n"
   ]
  },
  {
   "cell_type": "code",
   "execution_count": 3,
   "metadata": {},
   "outputs": [
    {
     "name": "stdout",
     "output_type": "stream",
     "text": [
      "Dataset 0/1: We now look at ./data/Darknet_experiments_base.csv\n",
      "\n",
      "\n",
      "Loading Dataset: ./data/Darknet_experiments_base.csv\n",
      "\tTo Dataset Cache: ./cache/Darknet_experiments_base.csv.pickle\n",
      "\n",
      "\n",
      "        File:\t\t\t\t./data/Darknet_experiments_base.csv  \n",
      "        Job Number:\t\t\t0\n",
      "        Shape:\t\t\t\t(117620, 64)\n",
      "        Samples:\t\t\t117620 \n",
      "        Features:\t\t\t64\n",
      "    \n"
     ]
    }
   ],
   "source": [
    "dataset_1 = examine_dataset(0, file_set_1, data_sets_1)"
   ]
  },
  {
   "cell_type": "code",
   "execution_count": null,
   "metadata": {},
   "outputs": [],
   "source": []
  }
 ],
 "metadata": {
  "kernelspec": {
   "display_name": "Python 3.10.4 ('Research')",
   "language": "python",
   "name": "python3"
  },
  "language_info": {
   "codemirror_mode": {
    "name": "ipython",
    "version": 3
   },
   "file_extension": ".py",
   "mimetype": "text/x-python",
   "name": "python",
   "nbconvert_exporter": "python",
   "pygments_lexer": "ipython3",
   "version": "3.10.4"
  },
  "orig_nbformat": 4,
  "vscode": {
   "interpreter": {
    "hash": "69ca8442e2f0e5df502e28d8c611d392fe994735a9bbaec40eb7c21a87c535fe"
   }
  }
 },
 "nbformat": 4,
 "nbformat_minor": 2
}
